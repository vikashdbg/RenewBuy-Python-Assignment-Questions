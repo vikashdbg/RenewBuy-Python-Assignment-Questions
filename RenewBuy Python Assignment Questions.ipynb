{
 "cells": [
  {
   "cell_type": "markdown",
   "metadata": {},
   "source": [
    "# Question 1:"
   ]
  },
  {
   "cell_type": "code",
   "execution_count": 66,
   "metadata": {},
   "outputs": [
    {
     "name": "stdout",
     "output_type": "stream",
     "text": [
      "Tom,19,80\n",
      "John,20,90\n",
      "Jony,17,91\n",
      "Jony,17,93\n",
      "Json,21,85\n",
      "\n",
      "[('John', 20, 90), ('Jony', 17, 91), ('Jony', 17, 93), ('Json', 21, 85), ('Tom', 19, 80)]\n"
     ]
    }
   ],
   "source": [
    "arr=[] # input list of tuples.\n",
    "while True:#taking input from user.\n",
    "    s=input()\n",
    "    if not s:\n",
    "        break\n",
    "    name,age,score=s.split(',')\n",
    "    t=(name,int(age),int(score))\n",
    "    arr.append(t)\n",
    "# sorting list of tuples based on criteria.\n",
    "for i in range(len(arr)-1):\n",
    "    min_index=i\n",
    "    for j in range(i+1,len(arr)):\n",
    "        if arr[min_index][0] > arr[j][0]:\n",
    "            min_index=j\n",
    "        elif arr[min_index][0]==arr[j][0]:\n",
    "            if arr[min_index][1] > arr[j][1]:\n",
    "                min_index=j\n",
    "            elif arr[min_index][1]==arr[j][1]:\n",
    "                if arr[min_index][2]>arr[j][2]:\n",
    "                    min_index=j\n",
    "                    \n",
    "    temp=arr[min_index]\n",
    "    arr[min_index]=arr[i]\n",
    "    arr[i]=temp\n",
    "                    \n",
    "                \n",
    "print(arr)"
   ]
  },
  {
   "cell_type": "markdown",
   "metadata": {},
   "source": [
    "# Question 2:"
   ]
  },
  {
   "cell_type": "code",
   "execution_count": 35,
   "metadata": {},
   "outputs": [
    {
     "name": "stdout",
     "output_type": "stream",
     "text": [
      "Give the number : 100\n",
      "0,7,14,21,28,35,42,49,56,63,70,77,84,91,98, are the numbers which are divisible by 7 from range 0 to 100\n"
     ]
    }
   ],
   "source": [
    "class gen:                      #class \n",
    "    def __init__(self,n):       #constructor\n",
    "        self.n=n\n",
    "    def div_7(self):\n",
    "        for i in range(self.n): # generator method\n",
    "            if i%7==0:\n",
    "                yield i\n",
    "num=int(input('Give the number : '))#taking input\n",
    "c1=gen(num)                         #creating object\n",
    "ans=c1.div_7()\n",
    "for val in ans:\n",
    "    print(val,end=\",\")\n",
    "print(\" are the numbers which are divisible by 7 from range 0 to\",num)"
   ]
  },
  {
   "cell_type": "markdown",
   "metadata": {},
   "source": [
    "# Question 3:"
   ]
  },
  {
   "cell_type": "code",
   "execution_count": 23,
   "metadata": {},
   "outputs": [
    {
     "name": "stdout",
     "output_type": "stream",
     "text": [
      "enter number : 100\n",
      "0,35,70,are the numbers which are divisible by both 5 and 7 from 0 to 100\n"
     ]
    }
   ],
   "source": [
    "def div_5_and_div_7(n): #generator function of number divisible by 5 and 7 from range 0-n\n",
    "    for val in range(0,n+1):\n",
    "        if val%5==0 and val%7==0:\n",
    "            yield val\n",
    "            \n",
    "num=int(input(\"enter number : \"))        #taking Input\n",
    "ans=div_5_and_div_7(num)#calling generator function\n",
    "for i in ans:           #printing generator object\n",
    "    print(i,end=\",\")\n",
    "print(\"are the numbers which are divisible by both 5 and 7 from 0 to\",num)"
   ]
  },
  {
   "cell_type": "markdown",
   "metadata": {},
   "source": [
    "# Question 4:"
   ]
  },
  {
   "cell_type": "code",
   "execution_count": 33,
   "metadata": {},
   "outputs": [
    {
     "name": "stdout",
     "output_type": "stream",
     "text": [
      "Bayern Munich\n"
     ]
    }
   ],
   "source": [
    "def football(arr):\n",
    "    highest_point=0 # team with highest point.\n",
    "    scored=0        #highest point team score.\n",
    "    conceded=0      #highest point conceded.\n",
    "    name=\"\"         #highest point team name.\n",
    "    for val in arr:\n",
    "        point=(3*val['wins']+0*val['loss']+1*val['draws']) #calculating points.\n",
    "        if point > highest_point: # comparing with highest.\n",
    "           highest_point=point\n",
    "           name=val['name']\n",
    "           scored=val['scored']\n",
    "           conceded=val['conceded']\n",
    "        elif highest_point == point:# checking for if points are equal.\n",
    "           temp=scored-conceded     #calculating goal difference.\n",
    "           temp1=val['scored']-val['conceded']\n",
    "           if temp1 > temp:         \n",
    "               name=val['name']\n",
    "    return name\n",
    "               \n",
    "   \n",
    "#input     \n",
    "arr=[{ \"name\": \"Manchester United\", \"wins\": 30, \"loss\": 3, \"draws\": 5, \"scored\": 88,\"conceded\": 20 },{ \"name\": \"Real Madrid\", \"wins\": 38, \"loss\": 5, \"draws\": 2, \"scored\": 98,\"conceded\": 22 },\n",
    "    { \"name\": \"Chelsea\", \"wins\": 37, \"loss\": 7, \"draws\": 2, \"scored\": 68,\"conceded\": 30 },{ \"name\": \"Manchester City\", \"wins\": 37, \"loss\": 4, \"draws\": 7, \"scored\": 108,\"conceded\": 48 },{ \"name\": \"Bayern Munich\", \"wins\": 38, \"loss\": 7, \"draws\": 4, \"scored\": 89,\"conceded\": 25 }]\n",
    "team=football(arr)\n",
    "print(team)"
   ]
  },
  {
   "cell_type": "code",
   "execution_count": null,
   "metadata": {},
   "outputs": [],
   "source": []
  }
 ],
 "metadata": {
  "kernelspec": {
   "display_name": "Python 3",
   "language": "python",
   "name": "python3"
  },
  "language_info": {
   "codemirror_mode": {
    "name": "ipython",
    "version": 3
   },
   "file_extension": ".py",
   "mimetype": "text/x-python",
   "name": "python",
   "nbconvert_exporter": "python",
   "pygments_lexer": "ipython3",
   "version": "3.8.5"
  }
 },
 "nbformat": 4,
 "nbformat_minor": 4
}
